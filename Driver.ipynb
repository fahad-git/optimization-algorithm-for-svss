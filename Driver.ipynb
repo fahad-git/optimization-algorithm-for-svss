{
 "cells": [
  {
   "cell_type": "code",
   "execution_count": 1,
   "metadata": {},
   "outputs": [
    {
     "name": "stderr",
     "output_type": "stream",
     "text": [
      "Using TensorFlow backend.\n"
     ]
    }
   ],
   "source": [
    "import sys\n",
    "from PyQt5.QtWidgets import QMainWindow,QWidget, QApplication,QDesktopWidget,QMessageBox,QPushButton,QLabel,QToolTip,QLineEdit,QGroupBox,QCheckBox,QGridLayout,QScrollArea,QVBoxLayout,QHBoxLayout, QButtonGroup,QRadioButton, QGraphicsScene, QGraphicsView, QSizePolicy,QSlider, QStyle, QStatusBar\n",
    "from PyQt5.QtGui import QIcon, QFont, QPixmap, QMouseEvent\n",
    "from PyQt5.QtCore import pyqtSlot , QSize , QCoreApplication,Qt, QRectF, QTimer, QDir, QUrl, QTime, pyqtProperty, pyqtSignal\n",
    "\n",
    "from PIL import Image\n",
    "from PIL import ImageQt\n",
    "from PIL import ImageEnhance\n",
    "import time\n",
    "import numpy as np\n",
    "import cv2\n",
    "import re\n",
    "\n",
    "\n",
    "\n",
    "# Numpy is for calculation on numaric dat\n",
    "import numpy as np\n",
    "# os libarary is used to do function like creating directory etc\n",
    "import os\n",
    "# Shutil library is used to copy and paste  or remove hierarchy of directories\n",
    "import shutil\n",
    "# Open cv is well known library for computer vision. We have used it for opening camera and capturing frames\n",
    "import cv2 as cv\n",
    "# Skimage is package provides facility of conversion of data(mostly images). Its measure module contains compare_ssim module\n",
    "# which is used to take squred difference of two ndarrays\n",
    "from skimage.measure import compare_ssim as ssim\n",
    "# Imageai is well know library which provides facility to tain models or run existing models for object detection\n",
    "from imageai.Detection import ObjectDetection\n",
    "# Pandas is use for data manipulation\n",
    "import pandas as pd\n",
    "# Writing to an excel \n",
    "# sheet using Python \n",
    "import xlwt \n",
    "from xlwt import Workbook \n",
    "from datetime import datetime\n",
    "# pip install xlrd\n",
    "# pip install ipynb\n",
    "# pip install openpyxl\n",
    "# This library will open video files in python video player!\n",
    "import vlc\n",
    "import subprocess\n",
    "from moviepy.video.io.VideoFileClip import VideoFileClip\n",
    "from twilio.rest import Client\n",
    "import _thread\n",
    "import time\n",
    "from IPython import get_ipython"
   ]
  },
  {
   "cell_type": "code",
   "execution_count": 2,
   "metadata": {},
   "outputs": [],
   "source": [
    "execution_path =\"D:\\\\FYP\"\n",
    "\n",
    "video_dir = os.path.join(execution_path,\"videos\")\n",
    "model_path = os.path.join(execution_path , \"model\")\n",
    "description_dir = os.path.join(execution_path , \"description\")\n",
    "tmp_dir = os.path.join(execution_path,\"tmp\")\n",
    "input_dir = os.path.join(tmp_dir,\"input\")\n",
    "output_dir = os.path.join(tmp_dir,\"output\")\n",
    "\n",
    "try:\n",
    "    os.makedirs(video_dir,exist_ok = True)\n",
    "    os.makedirs(model_path,exist_ok = True)\n",
    "    os.makedirs(description_dir,exist_ok = True)\n",
    "    os.makedirs(input_dir,exist_ok = True)\n",
    "    os.makedirs(output_dir,exist_ok = True)\n",
    "\n",
    "except OSError:\n",
    "    print ('Error: Creating directory of data')"
   ]
  },
  {
   "cell_type": "code",
   "execution_count": 3,
   "metadata": {},
   "outputs": [
    {
     "name": "stdout",
     "output_type": "stream",
     "text": [
      "WARNING:tensorflow:From C:\\Users\\Fahad_Siddiqui\\Anaconda3\\envs\\FYP\\lib\\site-packages\\tensorflow_core\\python\\ops\\resource_variable_ops.py:1630: calling BaseResourceVariable.__init__ (from tensorflow.python.ops.resource_variable_ops) with constraint is deprecated and will be removed in a future version.\n",
      "Instructions for updating:\n",
      "If using Keras pass *_constraint arguments to layers.\n",
      "WARNING:tensorflow:From C:\\Users\\Fahad_Siddiqui\\Anaconda3\\envs\\FYP\\lib\\site-packages\\tensorflow_core\\python\\ops\\array_ops.py:1475: where (from tensorflow.python.ops.array_ops) is deprecated and will be removed in a future version.\n",
      "Instructions for updating:\n",
      "Use tf.where in 2.0, which has the same broadcast rule as np.where\n"
     ]
    }
   ],
   "source": [
    "# For classifying object objectDetection method is used. This method is used to load Yolov3 algorithm with our custom weights\n",
    "detector = ObjectDetection()\n",
    "detector.setModelTypeAsYOLOv3()\n",
    "detector.setModelPath(os.path.join(model_path , \"my_model.h5\"))\n",
    "# detector.loadModel()\n",
    "detector.loadModel(detection_speed=\"fast\")"
   ]
  },
  {
   "cell_type": "code",
   "execution_count": 4,
   "metadata": {
    "scrolled": true
   },
   "outputs": [],
   "source": [
    "%run Home.ipynb\n",
    "%run Setup.ipynb\n",
    "%run Surveillance.ipynb\n",
    "%run Browse.ipynb"
   ]
  },
  {
   "cell_type": "code",
   "execution_count": 5,
   "metadata": {
    "scrolled": true
   },
   "outputs": [
    {
     "name": "stdout",
     "output_type": "stream",
     "text": [
      "Starting Surveillance...\n"
     ]
    }
   ],
   "source": [
    "if __name__ == '__main__':\n",
    "    \n",
    "    app = QApplication(sys.argv)\n",
    "    ex = SVSS()\n",
    "    exit(app.exec_())"
   ]
  }
 ],
 "metadata": {
  "kernelspec": {
   "display_name": "Python 3",
   "language": "python",
   "name": "python3"
  },
  "language_info": {
   "codemirror_mode": {
    "name": "ipython",
    "version": 3
   },
   "file_extension": ".py",
   "mimetype": "text/x-python",
   "name": "python",
   "nbconvert_exporter": "python",
   "pygments_lexer": "ipython3",
   "version": "3.6.10"
  }
 },
 "nbformat": 4,
 "nbformat_minor": 4
}
